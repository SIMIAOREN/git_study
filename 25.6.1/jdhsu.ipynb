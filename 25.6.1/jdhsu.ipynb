{
 "cells": [
  {
   "cell_type": "code",
   "execution_count": 2,
   "id": "29be3cfd",
   "metadata": {},
   "outputs": [
    {
     "name": "stdout",
     "output_type": "stream",
     "text": [
      "本次考试最高分为：78\n"
     ]
    }
   ],
   "source": [
    "score=[45,23,56,78] # 成绩列表 [45,23,56,78]\n",
    "largest_score= score[0] #初始值设为score[0]，即列表里第一个值\n",
    "for i in score:      \t# 遍历列表score里的每一个元素（分数）\n",
    "    if i> largest_score: \t#如果该分数大于当前的largest_ score\n",
    "        largest_score = i \n",
    "print(f\"本次考试最高分为：{ largest_score }\")"
   ]
  }
 ],
 "metadata": {
  "kernelspec": {
   "display_name": "labelme",
   "language": "python",
   "name": "python3"
  },
  "language_info": {
   "codemirror_mode": {
    "name": "ipython",
    "version": 3
   },
   "file_extension": ".py",
   "mimetype": "text/x-python",
   "name": "python",
   "nbconvert_exporter": "python",
   "pygments_lexer": "ipython3",
   "version": "3.10.9"
  }
 },
 "nbformat": 4,
 "nbformat_minor": 5
}
