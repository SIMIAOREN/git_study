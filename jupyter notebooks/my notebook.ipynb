{
 "cells": [
  {
   "cell_type": "markdown",
   "id": "c7ff7b42",
   "metadata": {},
   "source": [
    "# print()\n",
    "- Python 中单引号 ' 和双引号 \" 使用完全相同。\n",
    "- 使用三引号(''' 或 \"\"\")可以指定一个多行字符串。\n",
    "- 转义符 \\。\n",
    "- 反斜杠可以用来转义，使用 r 可以让反斜杠不发生转义。 如r\"this is a line with \\n\" 则 \\n 会显示，并不是换行。\n",
    "- 按字面意义级联字符串，如 \"this \" \"is \" \"string\" 会被自动转换为 this is string。\n",
    "- 字符串可以用 + 运算符连接在一起，用 * 运算符重复。"
   ]
  },
  {
   "cell_type": "code",
   "execution_count": null,
   "id": "374e0f07",
   "metadata": {},
   "outputs": [
    {
     "name": "stdout",
     "output_type": "stream",
     "text": [
      "Hello, World!\n",
      "Hello 'World!'\n",
      "Hello \"World!\"\n",
      "Hello World!\n"
     ]
    }
   ],
   "source": [
    "print(\"Hello, World!\") #Python 中单引号 ' 和双引号 \" 使用完全相同。\n",
    "print(\"Hello 'World!'\")#单引号内的双引号不需要转义\n",
    "print('Hello \"World!\"')#双引号内的单引号不需要转义\n",
    "print(\"Hello World!\")#字符串中间的空格会被保留"
   ]
  },
  {
   "cell_type": "code",
   "execution_count": 4,
   "id": "97a6c834",
   "metadata": {},
   "outputs": [
    {
     "name": "stdout",
     "output_type": "stream",
     "text": [
      "HelloWorld!\n",
      "Hello Hello Hello \n"
     ]
    }
   ],
   "source": [
    "print(\"Hello\" + \"World!\")#字符串连接\n",
    "print(\"Hello \" * 3)#字符串重复"
   ]
  },
  {
   "cell_type": "code",
   "execution_count": null,
   "id": "2d877c81",
   "metadata": {},
   "outputs": [
    {
     "name": "stdout",
     "output_type": "stream",
     "text": [
      "Hello\n",
      "World!\n",
      "Hello\tWorld!\n",
      "Hello\\World!\n",
      "Hello \"let's go!\"\n",
      "this is a line with \\n\n"
     ]
    }
   ],
   "source": [
    "print(\"Hello\\nWorld!\")#转义符 \\n 用于换行\n",
    "print(\"Hello\\tWorld!\")#转义符 \\t 用于制表符,即空格(动态对齐至8的倍数)\n",
    "print(\"Hello\\\\World!\")#转义符 \\\\ 用于输出反斜杠     \n",
    "print(\"Hello \\\"let's go!\\\"\")#转义符 \\ 用于转义字符,多个'和\"时避免歧义错误\n",
    "print(r\"this is a line with \\n\") #r前缀表示原始字符串,不会处理转义字符,输出原样字符串"
   ]
  },
  {
   "cell_type": "code",
   "execution_count": 6,
   "id": "c30b501d",
   "metadata": {},
   "outputs": [
    {
     "name": "stdout",
     "output_type": "stream",
     "text": [
      "jjdsfjk\n",
      "      sdjg\n",
      "      khsdkf\n",
      "      \n"
     ]
    }
   ],
   "source": [
    "print('''jjdsfjk\n",
    "      sdjg\n",
    "      khsdkf\n",
    "      ''')#使用三引号(''' 或 \"\"\")可以指定一个多行字符串,而不用每行都打\\n 用于换行"
   ]
  },
  {
   "cell_type": "markdown",
   "id": "856f0fc8",
   "metadata": {},
   "source": [
    "# 变量\n",
    "## 变量命名规则\n",
    "- 由字母、数字和下划线组成，不能包含空格。（py3支持中文字符，不过慎用）\n",
    "- 不能是数字打头。\n",
    "- 禁止使用python关键字和函数名。\n",
    "- 慎用字母l和o，因为和数字1和0傻傻分不清\n",
    "- 标识符对大小写敏感，count 和 Count 是不同的标识符"
   ]
  },
  {
   "cell_type": "markdown",
   "id": "027b475b",
   "metadata": {},
   "source": [
    "## 数据类型\n",
    "- 不可变数据    \n",
    "  - Number（数字）\n",
    "    - int（整数）\n",
    "    - float（浮点）\n",
    "    - bool（布尔类型） \n",
    "    - complex（复数）\n",
    "  - String（字符串）\n",
    "  - Tuple（元组）\n",
    "- 可变数据\n",
    "  - List（列表）\n",
    "  - Set（集合）\n",
    "  - Dictionary（字典）\n",
    "- 其他 \n",
    "  - 字节数组类型(bytes)  \n",
    "  \n",
    "   type() 函数可以用来查询变量所指的对象类型"
   ]
  },
  {
   "cell_type": "code",
   "execution_count": null,
   "id": "de100087",
   "metadata": {},
   "outputs": [
    {
     "name": "stdout",
     "output_type": "stream",
     "text": [
      "<class 'int'>\n",
      "<class 'float'>\n",
      "<class 'str'>\n",
      "<class 'bool'>\n",
      "three 1\n"
     ]
    }
   ],
   "source": [
    "# 变量定义\n",
    "x = 10          # 整数<class 'int'\n",
    "y = 3.14         # 浮点数<class 'float'\n",
    "name = \"Alice\"   # 字符串<class 'str'\n",
    "is_active = True # 布尔值<class 'bool'首字母大写\n",
    "\n",
    "# 多变量赋值\n",
    "a, b, c = 1, 2, \"three\"\n",
    "\n",
    "# 查看数据类型\n",
    "print(type(x))        # <class 'int'\n",
    "print(type(y))        # <class 'float'\n",
    "print(type(name))     # <class 'str'\n",
    "print(type(is_active)) # <class 'bool'\n",
    "\n",
    "print(c,a)"
   ]
  },
  {
   "cell_type": "markdown",
   "id": "595d4c40",
   "metadata": {},
   "source": [
    "## 数据类型转换\n",
    "| 函数 | 描述 |\n",
    "|------|------|\n",
    "| `int(x [,base])` | 将x转换为一个整数 |\n",
    "| `float(x)` | 将x转换到一个浮点数 |\n",
    "| `complex(real [,imag])` | 创建一个复数 |\n",
    "| `str(x)` | 将对象 x 转换为字符串 |\n",
    "| `repr(x)` | 将对象 x 转换为表达式字符串 |\n",
    "| `eval(str)` | 用来计算在字符串中的有效Python表达式，并返回一个对象 |\n",
    "| `tuple(s)` | 将序列 s 转换为一个元组 |\n",
    "| `list(s)` | 将序列 s 转换为一个列表 |\n",
    "| `set(s)` | 转换为可变集合 |\n",
    "| `dict(d)` | 创建一个字典。d 必须是一个 (key, value)元组序列 |\n",
    "| `frozenset(s)` | 转换为不可变集合 |\n",
    "| `chr(x)` | 将一个整数转换为一个字符 |\n",
    "| `ord(x)` | 将一个字符转换为它的整数值 |\n",
    "| `hex(x)` | 将一个整数转换为一个十六进制字符串 |\n",
    "| `oct(x)` | 将一个整数转换为一个八进制字符串 |"
   ]
  },
  {
   "cell_type": "code",
   "execution_count": 15,
   "id": "4ea31f95",
   "metadata": {},
   "outputs": [],
   "source": [
    "x = float(1)     # x 输出结果为 1.0\n",
    "y = float(2.8)   # y 输出结果为 2.8\n",
    "z = float(\"3\")   # z 输出结果为 3.0\n",
    "w = float(\"4.2\") # w 输出结果为 4.2"
   ]
  },
  {
   "cell_type": "code",
   "execution_count": 16,
   "id": "5ea32a2a",
   "metadata": {},
   "outputs": [
    {
     "name": "stdout",
     "output_type": "stream",
     "text": [
      "num_int 数据类型为: <class 'int'>\n",
      "类型转换前，num_str 数据类型为: <class 'str'>\n",
      "类型转换后，num_str 数据类型为: <class 'int'>\n",
      "num_int 与 num_str 相加结果为: 579\n",
      "sum 数据类型为: <class 'int'>\n"
     ]
    }
   ],
   "source": [
    "num_int = 123\n",
    "num_str = \"456\"\n",
    "\n",
    "print(\"num_int 数据类型为:\",type(num_int))\n",
    "print(\"类型转换前，num_str 数据类型为:\",type(num_str))\n",
    "\n",
    "num_str = int(num_str)    # 强制转换为整型\n",
    "print(\"类型转换后，num_str 数据类型为:\",type(num_str))\n",
    "\n",
    "num_sum = num_int + num_str\n",
    "\n",
    "print(\"num_int 与 num_str 相加结果为:\",num_sum)\n",
    "print(\"sum 数据类型为:\",type(num_sum))"
   ]
  },
  {
   "cell_type": "markdown",
   "id": "5afafb70",
   "metadata": {},
   "source": [
    "# 运算符\n",
    "Python 支持以下类型的运算符：\n",
    "- 算术运算符\n",
    "- 比较运算符\n",
    "- 赋值运算符\n",
    "- 位运算符\n",
    "- 逻辑运算符\n",
    "- 成员运算符\n",
    "- 身份运算符"
   ]
  },
  {
   "cell_type": "markdown",
   "id": "8592f4ae",
   "metadata": {},
   "source": [
    "\n",
    "## 算术运算符\n",
    "假设变量 `a = 10`, 变量 `b = 21`：\n",
    "\n",
    "| 运算符 | 描述         | 实例                  |\n",
    "|--------|--------------|-----------------------|\n",
    "| `+`    | 加法         | `a + b = 31`         |\n",
    "| `-`    | 减法         | `a - b = -11`        |\n",
    "| `*`    | 乘法         | `a * b = 210`        |\n",
    "| `/`    | 除法         | `b / a = 2.1`        |\n",
    "| `%`    | 取模（余数） | `b % a = 1`         |\n",
    "| `**`   | 幂运算       | `a**b = 10^21`       |\n",
    "| `//`   | 取整除       | `9//2 = 4`, `-9//2 = -5` |\n",
    "\n",
    "**示例代码**：\n",
    "\n",
    "a = 21\n",
    "b = 10\n",
    "c = a + b  # 结果为 31\n",
    "c = a - b  # 结果为 11\n",
    "c = a * b  # 结果为 210\n",
    "c = a / b  # 结果为 2.1\n",
    "c = a % b  # 结果为 1\n",
    "c = a ** b # 结果为 16679880978201\n",
    "c = a // b # 结果为 2\n",
    "\n",
    "\n",
    "---\n"
   ]
  },
  {
   "cell_type": "markdown",
   "id": "2016ed51",
   "metadata": {},
   "source": [
    "\n",
    "## 比较运算符\n",
    "假设变量 `a = 10`, 变量 `b = 20`： \n",
    "\n",
    "| 运算符 | 描述       | 实例                |\n",
    "|--------|------------|---------------------|\n",
    "| `==`   | 等于       | `(a == b) → False` |\n",
    "| `!=`   | 不等于     | `(a != b) → True`   |\n",
    "| `>`    | 大于       | `(a > b) → False`  |\n",
    "| `<`    | 小于       | `(a < b) → True`   |\n",
    "| `>=`   | 大于等于   | `(a >= b) → False` |\n",
    "| `<=`   | 小于等于   | `(a <= b) → True`  |\n",
    "\n",
    "**示例代码**：\n",
    "\n",
    "a = 21\n",
    "b = 10\n",
    "if a == b: print(\"a 等于 b\")\n",
    "else: print(\"a 不等于 b\")  # 输出 \"a 不等于 b\"\n",
    "\n",
    "**注意：Python3 已不支持 <> 运算符，可以使用 != 代替**\n",
    "\n",
    "---\n"
   ]
  },
  {
   "cell_type": "markdown",
   "id": "b9cfe52b",
   "metadata": {},
   "source": [
    "\n",
    "## 赋值运算符\n",
    "\n",
    "| 运算符 | 描述       | 实例               | 等价于         |\n",
    "|--------|------------|--------------------|----------------|\n",
    "| `=`    | 赋值       | `c = a + b`       | -              |\n",
    "| `+=`   | 加法赋值   | `c += a`          | `c = c + a`    |\n",
    "| `-=`   | 减法赋值   | `c -= a`          | `c = c - a`    |\n",
    "| `*=`   | 乘法赋值   | `c *= a`          | `c = c * a`    |\n",
    "| `/=`   | 除法赋值   | `c /= a`          | `c = c / a`    |\n",
    "| `%=`   | 取模赋值   | `c %= a`          | `c = c % a`    |\n",
    "| `**=`  | 幂赋值     | `c **= a`         | `c = c ** a`   |\n",
    "| `//=`  | 取整除赋值 | `c //= a`         | `c = c // a`   |\n",
    "| `:=`   | 海象运算符 | 在表达式中同时进行赋值和返回赋值的值。Python3.8 版本新增运算符。| if (n := len(a)) > 10:print(f\"List is too long ({n} elements, expected <= 10)\") |\n",
    "\n",
    "**海象运算符示例**：\n",
    "\n",
    "- 传统写法\n",
    "n = 10\n",
    "if n > 5: print(n)\n",
    "\n",
    "- 使用海象运算符\n",
    "if (n := 10) > 5: print(n)  # 输出 10\n",
    "\n",
    "\n",
    "---\n"
   ]
  },
  {
   "cell_type": "markdown",
   "id": "b76473a7",
   "metadata": {},
   "source": [
    "\n",
    "## 位运算符\n",
    "假设变量 `a = 60` (二进制 `0011 1100`), `b = 13` (二进制 `0000 1101`):\n",
    "\n",
    "| 运算符 | 描述       | 实例                | 二进制解释         |\n",
    "|--------|------------|---------------------|--------------------|\n",
    "| `&`    | 按位与     | `a & b = 12`       | `0000 1100`       |\n",
    "| `|`    | 按位或     | `a | b = 61`       | `0011 1101`       |\n",
    "| `^`    | 按位异或   | `a ^ b = 49`       | `0011 0001`       |\n",
    "| `~`    | 按位取反   | `~a = -61`         | `1100 0011`       |\n",
    "| `<<`   | 左移       | `a << 2 = 240`     | `1111 0000`       |\n",
    "| `>>`   | 右移       | `a >> 2 = 15`      | `0000 1111`       |\n",
    "\n",
    "**示例代码**：\n",
    "\n",
    "a = 60  # 0011 1100\n",
    "b = 13  # 0000 1101\n",
    "print(a & b)  # 输出 12 (0000 1100)\n",
    "print(a | b)  # 输出 61 (0011 1101)\n",
    "print(a ^ b)  # 输出 49 (0011 0001)\n",
    "\n",
    "\n",
    "---\n"
   ]
  },
  {
   "cell_type": "markdown",
   "id": "149dd48f",
   "metadata": {},
   "source": [
    "\n",
    "## 逻辑运算符\n",
    "假设变量 `a = 10`, `b = 20`：\n",
    "\n",
    "| 运算符 | 逻辑表达式 | 描述                     | 实例                   |\n",
    "|--------|------------|--------------------------|------------------------|\n",
    "| `and`  | `x and y`  | 与（两者为真则返回y）    | `(a and b) → 20`      |\n",
    "| `or`   | `x or y`   | 或（任一为真则返回x）    | `(a or b) → 10`       |\n",
    "| `not`  | `not x`    | 非（反转布尔值）         | `not(a and b) → False` |\n",
    "\n",
    "**真值表**：\n",
    "\n",
    "print(0 and 1)   # → 0\n",
    "print(False and 1) # → False\n",
    "print(-1 and 1)  # → 1\n",
    "print(1 or False) # → 1\n",
    "\n",
    "\n",
    "---\n"
   ]
  },
  {
   "cell_type": "markdown",
   "id": "c527d350",
   "metadata": {},
   "source": [
    "\n",
    "## 成员运算符\n",
    "\n",
    "| 运算符   | 描述                   | 实例                        |\n",
    "|----------|------------------------|-----------------------------|\n",
    "| `in`     | 存在于序列中返回 True  | `x in [1,2,3] → True`       |\n",
    "| `not in` | 不存在于序列中返回 True | `x not in [1,2,3] → False` |\n",
    "\n",
    "**示例**：\n",
    "\n",
    "list = [1, 2, 3, 4, 5]\n",
    "a = 3\n",
    "print(a in list)     # 输出 True\n",
    "print(10 not in list) # 输出 True\n",
    "\n",
    "\n",
    "---\n"
   ]
  },
  {
   "cell_type": "markdown",
   "id": "c7bab500",
   "metadata": {},
   "source": [
    "\n",
    "## 身份运算符\n",
    "\n",
    "| 运算符    | 描述                     | 实例                     |\n",
    "|-----------|--------------------------|--------------------------|\n",
    "| `is`      | 引用同一对象返回 True    | `a is b`                |\n",
    "| `is not`  | 引用不同对象返回 True    | `a is not b`             |\n",
    "\n",
    "**与 `==` 的区别**：\n",
    "\n",
    "a = [1,2,3]\n",
    "b = a\n",
    "print(b is a)    # → True (同一对象)\n",
    "print(b == a)    # → True (值相等)\n",
    "\n",
    "c = a[:]\n",
    "print(c is a)    # → False (不同对象)\n",
    "print(c == a)    # → True (值相等)\n",
    "\n",
    "\n",
    "---\n"
   ]
  },
  {
   "cell_type": "markdown",
   "id": "c2f36790",
   "metadata": {},
   "source": [
    "\n",
    "## 运算符优先级\n",
    "从高到低优先级：\n",
    "\n",
    "| 优先级 | 运算符                                      | 描述               |\n",
    "|--------|---------------------------------------------|--------------------|\n",
    "| 1      | `()` `[]` `{}` `.` `await x`                | 括号/属性引用      |\n",
    "| 2      | `**`                                        | 幂运算             |\n",
    "| 3      | `+x` `-x` `~x`                             | 一元运算符         |\n",
    "| 4      | `*` `@` `/` `//` `%`                        | 乘除               |\n",
    "| 5      | `+` `-`                                     | 加减               |\n",
    "| 6      | `<<` `>>`                                   | 移位               |\n",
    "| 7      | `&`                                         | 按位与             |\n",
    "| 8      | `^`                                         | 按位异或           |\n",
    "| 9      | `|`                                         | 按位或             |\n",
    "| 10     | `in` `not in` `is` `is not` `<` `<=` `>` `>=` `!=` `==` | 比较运算 |\n",
    "| 11     | `not`                                       | 逻辑非             |\n",
    "| 12     | `and`                                       | 逻辑与             |\n",
    "| 13     | `or`                                        | 逻辑或             |\n",
    "| 14     | `if -- else`                                | 条件表达式         |\n",
    "| 15     | `lambda`                                    | Lambda表达式       |\n",
    "| 16     | `:=`                                        | 赋值表达式         |\n",
    "\n",
    "**示例**：\n",
    "\n",
    "a = 20\n",
    "b = 10\n",
    "c = (a + b) * c / d  # 括号具有最高优先级\n"
   ]
  },
  {
   "cell_type": "markdown",
   "id": "282bafbe",
   "metadata": {},
   "source": [
    "# 字符串\n",
    "## 字符串截取\n",
    "- Python 不支持单字符类型，单字符也是字符串\n",
    "- 使用方括号 `[]` 和索引访问子字符串\n",
    "- 索引从 0 开始，负索引从末尾开始\n",
    "\n",
    "**语法**：`变量[起始索引:结束索引]`\n",
    "- ***！！！(左闭右开)***\n",
    "- 空格不计数\n",
    "  \n",
    "![alt text](image-1.png)\n",
    "![alt text](image-2.png)\n",
    "\n"
   ]
  },
  {
   "cell_type": "code",
   "execution_count": null,
   "id": "7bcc5079",
   "metadata": {},
   "outputs": [
    {
     "name": "stdout",
     "output_type": "stream",
     "text": [
      "W\n",
      "unoo\n"
     ]
    }
   ],
   "source": [
    "#!/usr/bin/python3\n",
    " \n",
    "var1 = 'Hello World!'\n",
    "var2 = \"Runoob\"\n",
    " \n",
    "print (var1[6])#空格不计数\n",
    "print (var2[1:5])"
   ]
  },
  {
   "cell_type": "markdown",
   "id": "51fd7dce",
   "metadata": {},
   "source": [
    "## 字符串拼接\n",
    "通过截取和拼接更新字符串"
   ]
  },
  {
   "cell_type": "code",
   "execution_count": 28,
   "id": "7c81c726",
   "metadata": {},
   "outputs": [
    {
     "name": "stdout",
     "output_type": "stream",
     "text": [
      "已更新字符串 :  Hello Runoob!\n"
     ]
    }
   ],
   "source": [
    "#!/usr/bin/python3\n",
    " \n",
    "var1 = 'Hello World!'\n",
    " \n",
    "print (\"已更新字符串 : \", var1[:6] + 'Runoob!')"
   ]
  },
  {
   "cell_type": "markdown",
   "id": "4f49dfe3",
   "metadata": {},
   "source": [
    "\n",
    "## 转义字符\n",
    "| **转义符** | **类别**         | **功能**                     | **典型场景**                  |\n",
    "|------------|------------------|------------------------------|-----------------------------|\n",
    "| `\\'`       | 语法冲突规避     | 以字符串形式输出特殊字符（如引号）         | 单引号字符串内包含单引号  |\n",
    "| `\\n`       | 文本格式控制     | 换行符             | 多行文本分隔        |\n",
    "| `\\t`       | 文本格式控制     | 插入水平制表符（对齐）       | 表格数据对齐            |\n",
    "| `\\b`       | 特殊控制功能     | 删除前一个字符               | 动态修改输出内容         |\n",
    "| `\\f`       | 特殊控制功能     | 分页符         | 打印机分页控制           |\n",
    "| `\\x41`     | 编码扩展机制     | 十六进制直接表示ASCII字符    | 特殊字符输入         |\n",
    "\n",
    "**注**：  \n",
    "- 转义符的核心逻辑是通过`\\`改变后续字符的原始含义  \n",
    "- 进制转换部分虽非转义符，但展示了数值的多种编码方式，帮助理解`\\x41`等转义机制  \n",
    "- 退格符`\\b`在终端生效（IDE可能显示为`[]`符号）  \n",
    "- 换页符`\\f`的行为取决于输出设备（终端/打印机）"
   ]
  },
  {
   "cell_type": "code",
   "execution_count": null,
   "id": "89335588",
   "metadata": {},
   "outputs": [
    {
     "name": "stdout",
     "output_type": "stream",
     "text": [
      "'Hello, world!'\n",
      "Hello, world!\n",
      "How are you?\n",
      "Hello, world!\tHow are you?\n",
      "Hello world!\n",
      "Hello,\f world!\n",
      "A 对应的 ASCII 值为： 65\n",
      "A 为 A 的 ASCII 代码\n",
      "转换为二进制: 0b101010\n",
      "转换为八进制: 0o52\n",
      "转换为十六进制: 0x2a\n"
     ]
    }
   ],
   "source": [
    "# ===== 转义字符：规避语法冲突类 =====\n",
    "print('\\'Hello, world!\\'')  # 转义符：\\' → 在单引号字符串内输出单引号本身\n",
    "                            # 作用：避免字符串被单引号提前终止 \n",
    "                            # 输出：'Hello, world!'\n",
    "\n",
    "# ===== 转义字符：控制文本格式类 =====\n",
    "print(\"Hello, world!\\nHow are you?\")  # 转义符：\\n → 插入换行符\n",
    "                                      # 作用：将后续文本移动到新行首 \n",
    "                                      # 输出：\n",
    "                                      # Hello, world!\n",
    "                                      # How are you?\n",
    "\n",
    "print(\"Hello, world!\\tHow are you?\")  # 转义符：\\t → 插入水平制表符\n",
    "                                      # 作用：添加4-8空格宽度（对齐文本）\n",
    "                                      # 输出：Hello, world!    How are you?\n",
    "\n",
    "# ===== 转义字符：特殊控制功能类 =====\n",
    "print(\"Hello,\\b world!\")   # 转义符：\\b → 退格符（删除前一字符）\n",
    "                            # 作用：删除逗号（光标左移覆盖）\n",
    "                            # 输出：Hello world!\n",
    "\n",
    "print(\"Hello,\\f world!\")    # 转义符：\\f → 换页符\n",
    "                            # 作用：垂直跳转到下个逻辑页首 \n",
    "                            # 输出：\n",
    "                            # Hello,\n",
    "                            #  world!\n",
    "\n",
    "# ===== 字符编码与进制转换 =====\n",
    "print(\"A 对应的 ASCII 值为：\", ord('A'))  # ord() → 获取字符的十进制ASCII值\n",
    "                                        # 输出：A 对应的 ASCII 值为：65\n",
    "\n",
    "print(\"\\x41 为 A 的 ASCII 代码\")  # 转义符：\\x41 → 十六进制编码\n",
    "                                # 作用：直接表示ASCII字符（41 hex = 65 dec = 'A'）\n",
    "                                # 输出：A 为 A 的 ASCII 代码\n",
    "print(\"\\u0041 为 A 的 Unicode 代码\")  # 转义符：\\u0041 → Unicode编码\n",
    "                                        # 作用：表示Unicode字符（0041 hex = 'A'）\n",
    "                                        # 输出：A 为 A 的 Unicode 代码"
   ]
  },
  {
   "cell_type": "markdown",
   "id": "58e8d055",
   "metadata": {},
   "source": [
    "\n",
    "## 字符串运算符\n",
    "假设 `a = \"Hello\"`, `b = \"Python\"`：\n",
    "\n",
    "| 运算符 | 描述         | 示例                    | 结果             |\n",
    "|--------|--------------|-------------------------|------------------|\n",
    "| `+`    | 连接字符串   | `a + b`                | `HelloPython`   |\n",
    "| `*`    | 重复输出     | `a * 2`                | `HelloHello`    |\n",
    "| `[]`   | 索引访问     | `a[1]`                 | `e`             |\n",
    "| `[:]`  | 切片访问     | `a[1:4]`               | `ell`           |\n",
    "| `in`   | 成员判断     | `'H' in a`             | `True`          |\n",
    "| `not in` | 非成员判断 | `'M' not in a`         | `True`          |\n",
    "| `r/R`  | 原始字符串   | `print(r'\\n')`         | `\\n`            |\n",
    "| `%`    | 格式化       | `\"Name: %s\" % 'John'`  | `Name: John`    |"
   ]
  },
  {
   "cell_type": "code",
   "execution_count": 30,
   "id": "125e06f1",
   "metadata": {},
   "outputs": [
    {
     "name": "stdout",
     "output_type": "stream",
     "text": [
      "a + b 输出结果： HelloPython\n",
      "a * 2 输出结果： HelloHello\n",
      "a[1] 输出结果： e\n",
      "a[1:4] 输出结果： ell\n",
      "H 在变量 a 中\n",
      "M 不在变量 a 中\n",
      "\\n\n",
      "\\n\n"
     ]
    }
   ],
   "source": [
    "#!/usr/bin/python3\n",
    " \n",
    "a = \"Hello\"\n",
    "b = \"Python\"\n",
    " \n",
    "print(\"a + b 输出结果：\", a + b)\n",
    "print(\"a * 2 输出结果：\", a * 2)\n",
    "print(\"a[1] 输出结果：\", a[1])\n",
    "print(\"a[1:4] 输出结果：\", a[1:4])\n",
    " \n",
    "if( \"H\" in a) :\n",
    "    print(\"H 在变量 a 中\")\n",
    "else :\n",
    "    print(\"H 不在变量 a 中\")\n",
    " \n",
    "if( \"M\" not in a) :\n",
    "    print(\"M 不在变量 a 中\")\n",
    "else :\n",
    "    print(\"M 在变量 a 中\")\n",
    " \n",
    "print (r'\\n')\n",
    "print (R'\\n')"
   ]
  },
  {
   "cell_type": "markdown",
   "id": "932a24d0",
   "metadata": {},
   "source": [
    "## 字符串格式化\n",
    "\n",
    "### 1. % 格式化\n",
    "#### 格式化符号\n",
    "- `%s`格式化字符串\n",
    "- `%d`格式化整数\n",
    "- `%f`格式化浮点数字，可指定小数点后的精度\n",
    "- `%e`用科学计数法格式化浮点数\n",
    "- `%E`作用同%e，用科学计数法格式化浮点数\n",
    "- `%g`%f和%e的简写\n",
    "- `%G`%f 和 %E 的简写\n",
    "- `%u`格式化无符号整型\n",
    "- `%o`格式化无符号八进制数\n",
    "- `%x`格式化无符号十六进制数\n",
    "- `%X`格式化无符号十六进制数（大写）\n",
    "- `%p`用十六进制数格式化变量的地址\n",
    "- `%c`格式化字符及其ASCII码\n",
    "#### 格式化操作符辅助指令\n",
    "- `*`定义宽度或者小数点精度\n",
    "- `-`用做左对齐\n",
    "- `+`在正数前面显示加号( + )\n",
    "- `<sp>`在正数前面显示空格\n",
    "- `#`在八进制数前面显示零('0')，在十六进制前面显示'0x'或者'0X'(取决于用的是'x'还是'X')\n",
    "- `0`显示的数字前面填充'0'而不是默认的空格\n",
    "- `%`'%%'输出一个单一的'%'\n",
    "- `(var)`映射变量(字典参数)\n",
    "- `m.n.`m 是显示的最小总宽度,n 是小数点后的位数(如果可用的话)"
   ]
  },
  {
   "cell_type": "code",
   "execution_count": null,
   "id": "2217d9cc",
   "metadata": {},
   "outputs": [
    {
     "name": "stdout",
     "output_type": "stream",
     "text": [
      "我叫 小明 今年 10 岁!\n"
     ]
    }
   ],
   "source": [
    "print(\"我叫 %s 今年 %d 岁!\" % ('小明', 10)) \n",
    "#  `%s` 是字符串占位符，`%d` 是整数占位符。后面的 `('小明', 10)` 是一个元组，分别对应前面格式字符串中的两个占位符。执行时，`%s` 会被 `'小明'` 替换，`%d` 会被 `10` 替换，最终生成的字符串是 `\"我叫 小明 今年 10 岁!\"`。\n",
    "# 这种格式化方式在 Python2 和 Python3 中都支持，但在 Python3 中推荐使用 `str.format()` 或 f-string（如 `f\"我叫 {name} 今年 {age} 岁!\"`）进行格式化。不过 `%` 格式化依然常见，尤其是在处理简单的输出时。"
   ]
  },
  {
   "cell_type": "markdown",
   "id": "67ce9f00",
   "metadata": {},
   "source": [
    "\n",
    "### 2. `str.format`函数\n",
    "基本语法是通过 `{} `和 `:` 来代替以前的 `% `。\n",
    "format 函数可以接受不限个参数，位置可以不按顺序\n",
    "- 第一行 `print(\"{} {}\".format(\"Hello\", \"World\"))` 展示了最基本的用法。花括号 `{} `是占位符，`format() `方法会将**传入的参数依次填充到这些占位符中**，输出结果为` Hello World`。\n",
    "\n",
    "- 第二行 `print(\"{0} {1}\".format(\"Hello\", \"World\"))` 使用了位置索引。`{0} `和 `{1} `分别代表` format() `方法中第一个和第二个参数，因此输出结果同样是 `Hello World`。这种写法**在需要多次引用同一个参数时很有用**。\n",
    "\n",
    "- 第三行 `print(\"{name} {age}\".format(name=\"John\", age=25))` 展示了关键字参数的用法。占位符 `{name} `和 `{age}` 会被 `format() `方法中对应的关键字参数替换，输出结果为 `John 25`。这种方式**使格式化字符串更加直观和易读**。\n"
   ]
  },
  {
   "cell_type": "code",
   "execution_count": 38,
   "id": "eddc037a",
   "metadata": {},
   "outputs": [
    {
     "name": "stdout",
     "output_type": "stream",
     "text": [
      "Hello World\n",
      "Hello World World\n",
      "John 25\n",
      "网站名：菜鸟教程, 地址 www.runoob.com\n",
      "网站名：菜鸟教程, 地址 www.runoob.com\n"
     ]
    }
   ],
   "source": [
    "print(\"{} {}\".format(\"Hello\", \"World\"))  # 基本用法\n",
    "print(\"{0} {1} {1}\".format(\"Hello\", \"World\")) # 位置索引\n",
    "print(\"{name} {age}\".format(name=\"John\", age=25)) # 关键字参数\n",
    "\n",
    "# 通过字典设置参数\n",
    "site = {\"name\": \"菜鸟教程\", \"url\": \"www.runoob.com\"}\n",
    "print(\"网站名：{name}, 地址 {url}\".format(**site))\n",
    " \n",
    "# 通过列表索引设置参数\n",
    "my_list = ['菜鸟教程', 'www.runoob.com']\n",
    "print(\"网站名：{0[0]}, 地址 {0[1]}\".format(my_list))  # \"0\" 是必须的"
   ]
  },
  {
   "cell_type": "markdown",
   "id": "a4dc05c2",
   "metadata": {},
   "source": [
    "#### 数字格式化规则\n",
    "\n",
    "**数值精度控制规则**\n",
    "| **语法**    | **功能**                | **示例**         | **输出**    |\n",
    "|-------------|------------------------|------------------|-------------|\n",
    "| `{:.nf}`    | 保留 `n` 位小数（四舍五入） | `{:.2f}` → `3.1415926` | `3.14`      |\n",
    "| `{:.0f}`    | 舍去小数（整数输出）      | `{:.0f}` → `2.71828`   | `3`         |\n",
    "| `{:+.nf}`   | 强制显示正负号           | `{:+.2f}` → `3.1415926`| `+3.14`     |\n",
    "| `{:-.nf}`   | 负数显符号，正数不显`+`   | `{:-.2f}` → `-1`       | `-1.00`     |\n",
    "\n",
    "**数字填充与对齐规则**\n",
    "| **语法**      | **功能**                     | **示例**          | **输出**    |\n",
    "|---------------|-----------------------------|-------------------|-------------|\n",
    "| `{:c>nd}`     | **左侧补字符** `c`（宽度 `n`） | `{:0>2d}` → `5`   | `05`        |\n",
    "| `{:c<nd}`     | **右侧补字符** `c`（宽度 `n`） | `{:x<4d}` → `5`   | `5xxx`      |\n",
    "| `{:>nd}`      | 右对齐（空格填充，宽度 `n`）   | `{:>10d}` → `13`  | `•••••••13` |\n",
    "| `{:<nd}`      | 左对齐（空格填充，宽度 `n`）   | `{:<10d}` → `13`  | `13•••••••` |\n",
    "| `{:^nd}`      | 居中对齐（空格填充，宽度 `n`） | `{:^10d}` → `13`  | `•••13••••` |\n",
    "\n",
    "**注**：  \n",
    "> - `c` 可为任意字符（如 `0`, `x`, 空格）；  \n",
    "> - `n` 为总宽度，不足时填充，超出则原样输出。\n",
    "\n",
    "**特殊格式转换规则**\n",
    "| **语法**    | **功能**                  | **示例**            | **输出**       |\n",
    "|-------------|--------------------------|---------------------|----------------|\n",
    "| `{:,}`      | 千位分隔符                | `{:,}` → `1000000`  | `1,000,000`    |\n",
    "| `{:.n%}`    | 百分比格式（保留 `n` 位小数）| `{:.2%}` → `0.25`  | `25.00%`       |\n",
    "| `{:.ne}`    | 科学计数法（保留 `n` 位小数）| `{:.2e}` → `1e9`   | `1.00e+09`     |\n",
    "\n",
    "**进制与类型转换规则**\n",
    "| **语法**   | **功能**            | **示例**       | **输出** |\n",
    "|------------|---------------------|----------------|----------|\n",
    "| `{:b}`     | 十进制 → 二进制      | `'{:b}'.format(11)` | `1011`   |\n",
    "| `{:o}`     | 十进制 → 八进制      | `'{:o}'.format(11)` | `13`     |\n",
    "| `{:x}`     | 十进制 → 十六进制小写 | `'{:x}'.format(11)` | `b`      |\n",
    "| `{:#x}`    | 带 `0x` 前缀的十六进制| `{:#x}` → `11`   | `0xb`    |\n",
    "| `{:#X}`    | 带 `0X` 前缀的十六进制| `{:#X}` → `11`   | `0XB`    |\n",
    "\n",
    "**规则总结与关键点**\n",
    "| **类别**       | **核心符号** | **作用**                     |\n",
    "|----------------|-------------|------------------------------|\n",
    "| 精度控制       | `.n` `+` `-` | 小数位管理、符号显示         |\n",
    "| 填充对齐       | `>` `<` `^` `c` | 宽度控制、文本定位         |\n",
    "| 格式转换       | `,` `%` `e` | 数值可视化优化               |\n",
    "| 进制转换       | `b` `o` `x` | 多进制输出支持               |\n",
    "\n",
    " **注意事项**：  \n",
    "> 1. **符号冲突**：`+` 强制显示正号，`-` 仅显示负号（默认行为）；  \n",
    "> 2. **对齐优先级**：填充字符 `c` 与对齐符需同时声明（如 `{:0>2d}`）；  \n",
    "> 3. **科学计数法**：`e` 格式固定为小写指数符号（`e+09`），大写需手动转换；  \n",
    "> 4. **宽度不足**：若数字位数超过宽度 `n`（如 `{:>2d}` → `100`），按原值输出。"
   ]
  },
  {
   "cell_type": "markdown",
   "id": "cea9022c",
   "metadata": {},
   "source": [
    "\n",
    "\n",
    "### 3. `f-string`函数\n",
    "只需在字符串前加上字母 `f `或 `F`，然后在字符串内部用花括号 `{} `包裹变量或表达式，Python 会自动将其替换为对应的值\n"
   ]
  },
  {
   "cell_type": "code",
   "execution_count": 37,
   "id": "b456a582",
   "metadata": {},
   "outputs": [
    {
     "name": "stdout",
     "output_type": "stream",
     "text": [
      "Hello Runoob\n",
      "3\n",
      "x+1=2\n"
     ]
    }
   ],
   "source": [
    "name = \"Runoob\"\n",
    "print(f\"Hello {name}\")  # 输出 Hello Runoob\n",
    "print(f\"{1+2}\")         # 输出 3\n",
    "\n",
    "x = 1\n",
    "print(f\"{x+1=}\")       # 输出 x+1=2\n"
   ]
  },
  {
   "cell_type": "markdown",
   "id": "d2730278",
   "metadata": {},
   "source": [
    "## 三引号\n",
    "用于创建多行字符串.程序员从引号和特殊字符串的泥潭里面解脱出来，自始至终保持一小块字符串的格式是所谓的WYSIWYG（所见即所得）格式的"
   ]
  },
  {
   "cell_type": "code",
   "execution_count": null,
   "id": "5c4cde40",
   "metadata": {},
   "outputs": [
    {
     "name": "stdout",
     "output_type": "stream",
     "text": [
      "这是一个多行字符串的实例\n",
      "多行字符串可以使用制表符TAB(\t)。\n",
      "也可以使用换行符[\n",
      "]。\n"
     ]
    }
   ],
   "source": [
    "\n",
    "para_str = \"\"\"这是一个多行字符串的实例\n",
    "多行字符串可以使用制表符TAB(\\t)。\n",
    "也可以使用换行符[\\n]。\"\"\"\n",
    "\n",
    "print(para_str)\n"
   ]
  },
  {
   "cell_type": "code",
   "execution_count": 42,
   "id": "c5568139",
   "metadata": {},
   "outputs": [
    {
     "name": "stdout",
     "output_type": "stream",
     "text": [
      "\n",
      "<HTML><HEAD><TITLE>Error</TITLE></HEAD>\n",
      "<BODY><H3>ERROR</H3>\n",
      "<B>%s</B></BODY></HTML>\n",
      "\n",
      "\n",
      "CREATE TABLE users (\n",
      "login VARCHAR(8),\n",
      "uid INTEGER,\n",
      "prid INTEGER)\n",
      "\n"
     ]
    }
   ],
   "source": [
    "#HTML/SQL 应用示例\n",
    "\n",
    "errHTML = '''\n",
    "<HTML><HEAD><TITLE>Error</TITLE></HEAD>\n",
    "<BODY><H3>ERROR</H3>\n",
    "<B>%s</B></BODY></HTML>\n",
    "'''\n",
    "sql = '''\n",
    "CREATE TABLE users (\n",
    "login VARCHAR(8),\n",
    "uid INTEGER,\n",
    "prid INTEGER)\n",
    "'''\n",
    "print(errHTML)  # 输出错误信息的HTML格式\n",
    "print(sql)  # 输出SQL创建表的语句"
   ]
  },
  {
   "cell_type": "markdown",
   "id": "17c36db8",
   "metadata": {},
   "source": [
    "## 字符串内建函数\n",
    "\n",
    "| 函数 | 描述 | 示例 |\n",
    "|------|------|------|\n",
    "| `capitalize()` | 首字母大写 | `\"hello\".capitalize()` → `\"Hello\"` |\n",
    "| `center(width, fillchar)` | 居中填充 | `\"hello\".center(10, '*')` → `**hello***` |\n",
    "| `count(sub, start, end)` | 出现次数 | `\"hello\".count('l')` → `2` |\n",
    "| `encode(encoding='UTF-8')` | 编码 | `\"你好\".encode()` → `b'\\xe4\\xbd\\xa0\\xe5\\xa5\\xbd'` |\n",
    "| `endswith(suffix)` | 结尾判断 | `\"hello\".endswith('o')` → `True` |\n",
    "| `find(sub, start, end)` | 查找子串 | `\"hello\".find('ll')` → `2` |\n",
    "| `index(sub)` | 查找子串 | 类似 `find()`，但未找到时报错 |\n",
    "| `isalnum()` | 字母或数字 | `\"abc123\".isalnum()` → `True` |\n",
    "| `isalpha()` | 字母 | `\"abc\".isalpha()` → `True` |\n",
    "| `isdigit()` | 数字 | `\"123\".isdigit()` → `True` |\n",
    "| `islower()` | 小写字母 | `\"hello\".islower()` → `True` |\n",
    "| `isupper()` | 大写字母 | `\"HELLO\".isupper()` → `True` |\n",
    "| `join(iterable)` | 连接序列 | `\",\".join(['a','b','c'])` → `\"a,b,c\"` |\n",
    "| `lower()` | 转小写 | `\"HELLO\".lower()` → `\"hello\"` |\n",
    "| `upper()` | 转大写 | `\"hello\".upper()` → `\"HELLO\"` |\n",
    "| `strip(chars)` | 去两端空格 | `\" hello \".strip()` → `\"hello\"` |\n",
    "| `replace(old, new)` | 替换 | `\"hello\".replace('l','L')` → `\"heLLo\"` |\n",
    "| `split(sep)` | 分割 | `\"a,b,c\".split(',')` → `['a','b','c']` |\n",
    "| `startswith(prefix)` | 开头判断 | `\"hello\".startswith('he')` → `True` |\n",
    "| `swapcase()` | 大小写交换 | `\"Hello\".swapcase()` → `\"hELLO\"` |\n",
    "| `title()` | 标题化 | `\"hello world\".title()` → `\"Hello World\"` |\n",
    "| `zfill(width)` | 前导零填充 | `\"42\".zfill(5)` → `\"00042\"` |"
   ]
  },
  {
   "cell_type": "markdown",
   "id": "e0d11014",
   "metadata": {},
   "source": [
    "# 列表\n",
    "\n",
    "## 列表简介\n",
    "- Python 最常用的数据结构，属于序列类型\n",
    "- 特点：\n",
    "  - 元素**有序**排列，通过索引访问（索引从0开始）\n",
    "  - 元素类型可以不同（异构）\n",
    "  - 使用方括号 `[]` 创建，逗号分隔元素\n",
    "  - 支持索引、切片、添加、删除、修改等操作\n",
    "\n"
   ]
  },
  {
   "cell_type": "code",
   "execution_count": 2,
   "id": "77d90b67",
   "metadata": {},
   "outputs": [],
   "source": [
    "\n",
    "list1 = ['Google', 'Runoob', 1997, 2000]\n",
    "list2 = [1, 2, 3, 4, 5]\n",
    "list3 = [\"a\", \"b\", \"c\", \"d\"]\n"
   ]
  },
  {
   "cell_type": "markdown",
   "id": "c4d821c6",
   "metadata": {},
   "source": [
    "\n",
    "\n",
    "## 访问列表中的值\n"
   ]
  },
  {
   "cell_type": "markdown",
   "id": "f43340d2",
   "metadata": {},
   "source": [
    "### 正向索引（左→右）\n",
    "与字符串的索引一样，列表索引从 0 开始，第二个索引是 1，依此类推。\n",
    "通过索引列表可以进行截取、组合等操作\n",
    "![alt text](image-3.png)\n",
    "\n",
    "### 反向索引（右→左）\n",
    "索引也可以从尾部开始，最后一个元素的索引为 -1，往前一位为 -2，以此类推\n",
    "![alt text](image-4.png)\n",
    "\n",
    "### 切片操作\n",
    "使用下标索引来访问列表中的值，同样你也可以使用方括号 `[] `的形式截取字符\n",
    "- 注意！！！`[]`同样是**左开右闭**规则\n",
    "  \n",
    "![alt text](image-5.png)"
   ]
  },
  {
   "cell_type": "code",
   "execution_count": null,
   "id": "74f8a194",
   "metadata": {},
   "outputs": [],
   "source": [
    "### 正向索引（左→右）\n",
    "list = ['red', 'green', 'blue', 'yellow', 'white', 'black']\n",
    "print(list[0])  # 输出: red\n",
    "print(list[1])  # 输出: green\n",
    "print(list[2])  # 输出: blue\n",
    "\n",
    "### 反向索引（右→左）\n",
    "print(list[-1])  # 输出: black（最后一个元素）\n",
    "print(list[-2])  # 输出: white\n",
    "print(list[-3])  # 输出: yellow\n",
    "\n",
    "### 切片操作\n",
    "nums = [10, 20, 30, 40, 50, 60, 70, 80, 90]\n",
    "print(nums[0:4])  # 输出: [10, 20, 30, 40]（索引0到3）\n",
    "\n",
    "list = ['Google', 'Runoob', \"Zhihu\", \"Taobao\", \"Wiki\"]\n",
    "print(list[1:-2])  # 输出: ['Runoob', 'Zhihu']（索引1到-3）"
   ]
  },
  {
   "cell_type": "markdown",
   "id": "dd24c903",
   "metadata": {},
   "source": [
    "## 更新列表（增删改）\n",
    "### 修改元素\n",
    "`=`定义修改后元素,`list[n] = x·\n",
    "```python\n",
    "list = ['Google', 'Runoob', 1997, 2000]\n",
    "list[2] = 2001  # 将索引2的元素从1997改为2001\n",
    "```\n",
    "\n",
    "\n",
    "### 添加元素\n",
    "`list.append(obj)`函数\n",
    "\n",
    "list1 = ['Google', 'Runoob', 'Taobao']\n",
    "list1.append('Baidu')  # 末尾添加新元素\n",
    "# 结果: ['Google', 'Runoob', 'Taobao', 'Baidu']\n",
    "```\n",
    "\n",
    "\n",
    "### 删除元素\n",
    "`del` 语句 或 `remove()` 函数\n",
    "```python\n",
    "list = ['Google', 'Runoob', 1997, 2000]\n",
    "del list[2]  # 删除索引2的元素\n",
    "# 结果: ['Google', 'Runoob', 2000]\n",
    "```\n",
    "\n",
    "\n"
   ]
  },
  {
   "cell_type": "code",
   "execution_count": 4,
   "id": "5ad91880",
   "metadata": {},
   "outputs": [
    {
     "name": "stdout",
     "output_type": "stream",
     "text": [
      "['Google', 'Runoob', 2001, 2000]\n",
      "['Google', 'Runoob', 'Taobao', 'Baidu']\n",
      "['Google', 'Runoob', 2000]\n"
     ]
    }
   ],
   "source": [
    "### 修改元素\n",
    "\n",
    "list = ['Google', 'Runoob', 1997, 2000]\n",
    "list[2] = 2001  # 将索引2的元素从1997改为2001\n",
    "print(list)  # 输出: ['Google', 'Runoob', 2001, 2000]   \n",
    "\n",
    "\n",
    "### 添加元素\n",
    "\n",
    "list1 = ['Google', 'Runoob', 'Taobao']\n",
    "list1.append('Baidu')  # 末尾添加新元素\n",
    "print(list1)  # 输出: ['Google', 'Runoob', 'Taobao', 'Baidu']\n",
    "\n",
    "\n",
    "### 删除元素\n",
    "\n",
    "list = ['Google', 'Runoob', 1997, 2000]\n",
    "del list[2]  # 删除索引2的元素\n",
    "print(list)  # 输出: ['Google', 'Runoob', 2000] "
   ]
  },
  {
   "cell_type": "markdown",
   "id": "67a9c183",
   "metadata": {},
   "source": [
    "## 列表操作符\n",
    "列表对 + 和 * 的操作符与字符串相似。+ 号用于组合列表，* 号用于重复列表\n",
    "\n",
    "| 操作               | 示例                         | 结果/描述                     |\n",
    "|--------------------|------------------------------|------------------------------|\n",
    "| 长度               | `len([1,2,3])`               | 3                            |\n",
    "| 组合               | `[1,2,3] + [4,5,6]`         | [1,2,3,4,5,6]               |\n",
    "| 重复               | `['Hi!'] * 4`                | ['Hi!','Hi!','Hi!','Hi!']   |\n",
    "| 成员检测           | `3 in [1,2,3]`               | True                         |\n",
    "| 迭代               | `for x in [1,2,3]: print(x)` | 输出 1 2 3                   |\n",
    "\n"
   ]
  },
  {
   "cell_type": "markdown",
   "id": "7dbccf84",
   "metadata": {},
   "source": [
    "## 截取与拼接\n",
    "与字符串操作类似"
   ]
  },
  {
   "cell_type": "code",
   "execution_count": 10,
   "id": "dd5458b4",
   "metadata": {},
   "outputs": [
    {
     "name": "stdout",
     "output_type": "stream",
     "text": [
      "Taobao\n",
      "Runoob\n",
      "['Runoob', 'Taobao']\n"
     ]
    }
   ],
   "source": [
    "L = ['Google', 'Runoob', 'Taobao']\n",
    "print(L[2])    # 'Taobao'（索引2）\n",
    "print(L[-2])   # 'Runoob'（倒数第2个）\n",
    "print(L[1:])   # ['Runoob','Taobao']（索引1到最后）"
   ]
  },
  {
   "cell_type": "code",
   "execution_count": null,
   "id": "5a5f2b1f",
   "metadata": {},
   "outputs": [
    {
     "name": "stdout",
     "output_type": "stream",
     "text": [
      "[1, 4, 9, 16, 25, 36, 49, 64, 81, 100]\n",
      "1\n",
      "[4, 9, 16, 25, 36, 49, 64]\n"
     ]
    }
   ],
   "source": [
    "squares = [1,4,9,16,25]\n",
    "squares += [36,49,64,81,100]# 列表拼接使用 `+=` 运算符将两个列表合并为一个新列表。 \n",
    "\n",
    "print(squares)  # 输出: [1, 4, 9, 16, 25, 36, 49, 64, 81, 100]  \n",
    "print(squares[0])  # 输出: 1（第一个元素）\n",
    "print(squares[1:8])  # 索引1到7的切片）   "
   ]
  },
  {
   "cell_type": "markdown",
   "id": "b5c20a28",
   "metadata": {},
   "source": [
    "- `+= `是 Python 中的加法赋值运算符。它用于将变量自身的值与右侧的值相加，并将结果重新赋值给该变量。\n",
    "- 比如，`a += 3` 等价于 `a = a + 3`。\n",
    "- 这个运算符不仅适用于数字类型，也可以用于字符串（拼接）、列表（追加元素）等可迭代对象。\n",
    "- 需要注意的是，对于可变对象（如列表），`+=` 会直接修改原对象，而对于不可变对象（如整数、字符串），会生成新的对象并赋值。"
   ]
  },
  {
   "cell_type": "markdown",
   "id": "480c8f38",
   "metadata": {},
   "source": [
    "## 嵌套列表"
   ]
  },
  {
   "cell_type": "code",
   "execution_count": null,
   "id": "aa5c1b2e",
   "metadata": {},
   "outputs": [
    {
     "name": "stdout",
     "output_type": "stream",
     "text": [
      "[['a', 'b', 'c'], [1, 2, 3]]\n",
      "['a', 'b', 'c']\n",
      "b\n",
      "[2, 3]\n"
     ]
    }
   ],
   "source": [
    "a = ['a','b','c']\n",
    "n = [1,2,3]\n",
    "x = [a, n]      # 嵌套列表\n",
    "\n",
    "print(x)  # 输出: [['a', 'b', 'c'], [1, 2, 3]]（嵌套列表）\n",
    "\n",
    "print(x[0])  # 输出: ['a', 'b', 'c']（访问嵌套列表的第一个元素）\n",
    "\n",
    "print(x[0][1]) # ①访问嵌套列表的第1个元素，②访问该元素下的索引1  \n",
    "print(x[1][1:3])  # ①访问嵌套列表的第2个元素，②访问该元素下的索引1到2切片 "
   ]
  },
  {
   "cell_type": "markdown",
   "id": "57adff54",
   "metadata": {},
   "source": [
    "## 列表比较"
   ]
  },
  {
   "cell_type": "code",
   "execution_count": null,
   "id": "7f76471f",
   "metadata": {},
   "outputs": [
    {
     "name": "stdout",
     "output_type": "stream",
     "text": [
      "False\n",
      "True\n"
     ]
    }
   ],
   "source": [
    "import operator\n",
    "a = [1,2]\n",
    "b = [2,3]\n",
    "c = [2,3]\n",
    "print(operator.eq(a,b))  # False（比较内容）\n",
    "print(operator.eq(c,b))  # True"
   ]
  },
  {
   "cell_type": "markdown",
   "id": "31aeb382",
   "metadata": {},
   "source": [
    "## 列表函数\n",
    "| 函数         | 描述                   |\n",
    "|--------------|------------------------|\n",
    "| `len(list)`  | 返回列表元素个数       |\n",
    "| `max(list)`  | 返回列表元素最大值     |\n",
    "| `min(list)`  | 返回列表元素最小值     |\n",
    "| `list(seq)`  | 将元组/字符串转为列表  |\n",
    "\n",
    "## 列表方法\n",
    "| 方法                     | 描述                                        |\n",
    "|--------------------------|---------------------------------------------|\n",
    "| `list.append(obj)`       | 在末尾添加新对象                            |\n",
    "| `list.count(obj)`        | 统计元素出现次数                            |\n",
    "| `list.extend(seq)`       | 用序列扩展列表（追加多个元素）              |\n",
    "| `list.index(obj)`        | 返回第一个匹配项的索引                      |\n",
    "| `list.insert(index,obj)` | 在指定索引插入对象                          |\n",
    "| `list.pop([index=-1])`   | 移除并返回元素（默认最后一个）              |\n",
    "| `list.remove(obj)`       | 移除第一个匹配项                            |\n",
    "| `list.reverse()`         | 反转列表元素顺序                            |\n",
    "| `list.sort(key,reverse)` | 排序列表（key:排序规则，reverse:是否倒序） |\n",
    "| `list.clear()`           | 清空列表                                    |\n",
    "| `list.copy()`            | 复制列表（浅拷贝）                          |\n"
   ]
  },
  {
   "cell_type": "markdown",
   "id": "17bf7e06",
   "metadata": {},
   "source": [
    "# 元组\n",
    "\n",
    "## 简介\n",
    "- 与列表类似，但**元素不可修改**\n",
    "- 使用小括号 `()` 创建，逗号分隔元素\n",
    "- 元素类型可以不同（异构）\n",
    "- 支持索引、切片、组合等操作\n",
    "![alt text](image-6.png)\n",
    "\n",
    "## 创建元组\n",
    "### 基本创建\n",
    "```python\n",
    "tup1 = ('Google', 'Runoob', 1997, 2000)\n",
    "tup2 = (1, 2, 3, 4, 5)\n",
    "tup3 = \"a\", \"b\", \"c\", \"d\"  # 括号可省略\n",
    "```\n",
    "\n",
    "### 特殊创建\n",
    "```python\n",
    "empty_tup = ()  # 空元组\n",
    "\n",
    "# 单元素元组（必须加逗号）\n",
    "tup4 = (50)     # ❌ 整型(int)\n",
    "tup5 = (50,)    # ✅ 元组(tuple)\n",
    "```\n"
   ]
  },
  {
   "cell_type": "markdown",
   "id": "80721f56",
   "metadata": {},
   "source": [
    "\n",
    "## 访问元素\n",
    "元组与字符串类似，下标索引从 0 开始，可以进行截取，组合等。\n",
    "![alt text](image-7.png)\n"
   ]
  },
  {
   "cell_type": "code",
   "execution_count": null,
   "id": "78aec323",
   "metadata": {},
   "outputs": [
    {
     "name": "stdout",
     "output_type": "stream",
     "text": [
      "Google\n",
      "2000\n",
      "(2, 3, 4, 5)\n",
      "('Runoob', 'Taobao', 'Wiki', 'Weibo', 'Weixin')\n",
      "('Runoob', 'Taobao', 'Wiki')\n"
     ]
    }
   ],
   "source": [
    "\n",
    "### 索引访问\n",
    "tup1 = ('Google', 'Runoob', 1997, 2000)\n",
    "print(tup1[0])   # 输出: Google（正向索引）\n",
    "print(tup1[-1])  # 输出: 2000（反向索引）\n",
    "\n",
    "### 切片操作\n",
    "tup2 = (1, 2, 3, 4, 5, 6, 7)\n",
    "print(tup2[1:5])  # 输出: (2, 3, 4, 5)\n",
    "\n",
    "tup = ('Google', 'Runoob', 'Taobao', 'Wiki', 'Weibo','Weixin')\n",
    "print(tup[1:])    # 输出: ('Runoob','Taobao','Wiki','Weibo','Weixin')\n",
    "print(tup[1:4])   # 输出: ('Runoob','Taobao','Wiki')"
   ]
  },
  {
   "cell_type": "markdown",
   "id": "9624e437",
   "metadata": {},
   "source": [
    "\n",
    "## 修改与删除\n",
    "### 元组不可直接修改\n",
    "```python\n",
    "tup1 = (12, 34.56)\n",
    "# tup1[0] = 100 ❌ 非法操作（元素不可修改）\n",
    "```\n",
    "\n",
    "### 元组连接（创建新元组）\n",
    "```python\n",
    "tup1 = (12, 34.56)\n",
    "tup2 = ('abc', 'xyz')\n",
    "tup3 = tup1 + tup2  # 连接创建新元组\n",
    "# 输出: (12, 34.56, 'abc', 'xyz')\n",
    "```\n",
    "\n",
    "### 删除整个元组\n",
    "```python\n",
    "tup = ('Google', 'Runoob', 1997, 2000)\n",
    "del tup  # 删除整个元组\n",
    "# print(tup) ❌ 后续访问会报 NameError\n",
    "```\n"
   ]
  },
  {
   "cell_type": "markdown",
   "id": "eb1f3794",
   "metadata": {},
   "source": [
    "\n",
    "## 元组运算符\n",
    "| 操作               | 示例                          | 结果/描述                   |\n",
    "|--------------------|-------------------------------|----------------------------|\n",
    "| 长度               | `len((1,2,3))`                | 3                          |\n",
    "| 连接               | `(1,2,3) + (4,5,6)`           | (1,2,3,4,5,6)              |\n",
    "| 重复               | `('Hi!',) * 4`                | ('Hi!','Hi!','Hi!','Hi!')  |\n",
    "| 成员检测           | `3 in (1,2,3)`                | True                       |\n",
    "| 迭代               | `for x in (1,2,3): print(x)`  | 输出 1 2 3                 |\n",
    "| 增量连接           | `a = (1,2); a += (3,4)`       | a = (1,2,3,4)              |\n",
    "\n",
    "## 元组内置函数\n",
    "| 函数             | 描述                          | 示例                                       |\n",
    "|------------------|-------------------------------|--------------------------------------------|\n",
    "| `len(tuple)`     | 返回元组元素个数              | `len(('a','b'))` → 2                       |\n",
    "| `max(tuple)`     | 返回元组中最大值              | `max(('5','4','8'))` → '8'                 |\n",
    "| `min(tuple)`     | 返回元组中最小值              | `min(('5','4','8'))` → '4'                 |\n",
    "| `tuple(iterable)`| 将序列转换为元组              | `tuple(['a','b'])` → ('a','b')             |\n",
    "\n",
    "## 元组不可变性详解\n",
    "- **不可变特性**：元组指向的内存内容不可修改\n",
    "- 重新赋值实际是创建新对象：\n",
    "```python\n",
    "tup = ('r','u','n','o','o','b')\n",
    "# tup[0] = 'g' ❌ 报错：不支持元素修改\n",
    "\n",
    "id(tup)  # 原始内存地址\n",
    "tup = (1,2,3)  # 创建新元组对象\n",
    "id(tup)  # 新内存地址（与原地址不同）\n",
    "```"
   ]
  }
 ],
 "metadata": {
  "kernelspec": {
   "display_name": "labelme",
   "language": "python",
   "name": "python3"
  },
  "language_info": {
   "codemirror_mode": {
    "name": "ipython",
    "version": 3
   },
   "file_extension": ".py",
   "mimetype": "text/x-python",
   "name": "python",
   "nbconvert_exporter": "python",
   "pygments_lexer": "ipython3",
   "version": "3.10.9"
  }
 },
 "nbformat": 4,
 "nbformat_minor": 5
}
