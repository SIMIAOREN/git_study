{
 "cells": [
  {
   "cell_type": "code",
   "execution_count": null,
   "id": "2d499b57",
   "metadata": {},
   "outputs": [],
   "source": [
    "my_var = 5\n",
    "your_var=23\n",
    "print(my_var)\n",
    "print(your_var)\n",
    "\n",
    "print(my_var*5)\n"
   ]
  },
  {
   "cell_type": "code",
   "execution_count": null,
   "id": "f1d80aa8",
   "metadata": {},
   "outputs": [],
   "source": [
    "print(my_var*50)"
   ]
  },
  {
   "cell_type": "markdown",
   "id": "ead04531",
   "metadata": {},
   "source": [
    "### my notebook exercise\n",
    "**first** of all"
   ]
  }
 ],
 "metadata": {
  "kernelspec": {
   "display_name": "base",
   "language": "python",
   "name": "python3"
  },
  "language_info": {
   "codemirror_mode": {
    "name": "ipython",
    "version": 3
   },
   "file_extension": ".py",
   "mimetype": "text/x-python",
   "name": "python",
   "nbconvert_exporter": "python",
   "pygments_lexer": "ipython3",
   "version": "3.9.13"
  }
 },
 "nbformat": 4,
 "nbformat_minor": 5
}
